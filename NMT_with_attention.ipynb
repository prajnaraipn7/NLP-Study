{
  "nbformat": 4,
  "nbformat_minor": 0,
  "metadata": {
    "colab": {
      "name": "NMT with attention",
      "provenance": [],
      "collapsed_sections": []
    },
    "kernelspec": {
      "display_name": "Python 3",
      "name": "python3"
    },
    "language_info": {
      "name": "python"
    },
    "accelerator": "GPU"
  },
  "cells": [
    {
      "cell_type": "markdown",
      "metadata": {
        "id": "kMbS1Yu7yisu"
      },
      "source": [
        "##Import all the packages requried\n",
        "\n",
        "1.tensorflow keras -->model\n",
        "\n",
        "\n",
        "2.sklearn.model_selection ---> train -test split"
      ]
    },
    {
      "cell_type": "code",
      "metadata": {
        "id": "FXNj50o7ybaQ"
      },
      "source": [
        "import tensorflow as tf\n",
        "\n",
        "import matplotlib.pyplot as plt\n",
        "import matplotlib.ticker as ticker\n",
        "from sklearn.model_selection import train_test_split\n",
        "\n",
        "import unicodedata\n",
        "import re\n",
        "import numpy as np\n",
        "import os\n",
        "import io\n",
        "import time"
      ],
      "execution_count": 2,
      "outputs": []
    },
    {
      "cell_type": "markdown",
      "metadata": {
        "id": "WQN1mOMIzOYb"
      },
      "source": [
        "##Download the dataset\n",
        "Here we are using english -spanish dataset[you can use other datset also]"
      ]
    },
    {
      "cell_type": "code",
      "metadata": {
        "id": "Y8ekAPjk1i0U",
        "colab": {
          "base_uri": "https://localhost:8080/"
        },
        "outputId": "350849a6-1a67-4d85-b80f-ba9dad139947"
      },
      "source": [
        "from google.colab import drive\n",
        "drive.mount('/content/drive')"
      ],
      "execution_count": null,
      "outputs": [
        {
          "output_type": "stream",
          "text": [
            "Mounted at /content/drive\n"
          ],
          "name": "stdout"
        }
      ]
    },
    {
      "cell_type": "code",
      "metadata": {
        "colab": {
          "base_uri": "https://localhost:8080/"
        },
        "id": "9k1NE-nu2JC5",
        "outputId": "4f10a2ba-5dfd-4c09-b132-e170d6febe82"
      },
      "source": [
        "cd /content/drive/MyDrive/"
      ],
      "execution_count": null,
      "outputs": [
        {
          "output_type": "stream",
          "text": [
            "/content/drive/MyDrive\n"
          ],
          "name": "stdout"
        }
      ]
    },
    {
      "cell_type": "markdown",
      "metadata": {
        "id": "ni9gbwVO4-vV"
      },
      "source": [
        "By using tf.keras.utils.get_file ----we are downloading data in cache dir of keras ~/keras..you can check file downloaded here .....cd ~/keras/datasets"
      ]
    },
    {
      "cell_type": "code",
      "metadata": {
        "id": "ws28pEIrzBEK",
        "colab": {
          "base_uri": "https://localhost:8080/"
        },
        "outputId": "144d2ec3-d3e1-4583-b9d2-dcfc63a0b070"
      },
      "source": [
        "# Download the file --- \n",
        "path_to_zip = tf.keras.utils.get_file(\n",
        "    'spa-eng.zip', origin='http://storage.googleapis.com/download.tensorflow.org/data/spa-eng.zip',\n",
        "    extract=True)\n",
        "\n",
        "path_to_file = os.path.dirname(path_to_zip)+\"/spa-eng/spa.txt\"\n"
      ],
      "execution_count": 3,
      "outputs": [
        {
          "output_type": "stream",
          "text": [
            "Downloading data from http://storage.googleapis.com/download.tensorflow.org/data/spa-eng.zip\n",
            "2646016/2638744 [==============================] - 0s 0us/step\n"
          ],
          "name": "stdout"
        }
      ]
    },
    {
      "cell_type": "code",
      "metadata": {
        "colab": {
          "base_uri": "https://localhost:8080/"
        },
        "id": "EcFTSqKi5xgJ",
        "outputId": "60a456c6-6f39-498e-fc16-35b008f6ed64"
      },
      "source": [
        "ls"
      ],
      "execution_count": null,
      "outputs": [
        {
          "output_type": "stream",
          "text": [
            "\u001b[0m\u001b[01;34mspa-eng\u001b[0m/  spa-eng.zip\n"
          ],
          "name": "stdout"
        }
      ]
    },
    {
      "cell_type": "code",
      "metadata": {
        "colab": {
          "base_uri": "https://localhost:8080/"
        },
        "id": "uBmLIp0E54X8",
        "outputId": "e9d31828-45a9-4760-df7a-ea6fe948953d"
      },
      "source": [
        "cd spa-eng"
      ],
      "execution_count": null,
      "outputs": [
        {
          "output_type": "stream",
          "text": [
            "/root/.keras/datasets/spa-eng\n"
          ],
          "name": "stdout"
        }
      ]
    },
    {
      "cell_type": "code",
      "metadata": {
        "colab": {
          "base_uri": "https://localhost:8080/"
        },
        "id": "-O6GOoKk57jO",
        "outputId": "9ec5c071-9e9e-43ed-e5fd-3c695adeb8e8"
      },
      "source": [
        "ls"
      ],
      "execution_count": null,
      "outputs": [
        {
          "output_type": "stream",
          "text": [
            "_about.txt  spa.txt\n"
          ],
          "name": "stdout"
        }
      ]
    },
    {
      "cell_type": "code",
      "metadata": {
        "id": "616N_BRy6doi"
      },
      "source": [
        "num_lines = sum(1 for line in open('spa.txt'))"
      ],
      "execution_count": null,
      "outputs": []
    },
    {
      "cell_type": "code",
      "metadata": {
        "colab": {
          "base_uri": "https://localhost:8080/"
        },
        "id": "sI5qAgfp6g1l",
        "outputId": "2430276e-aa6b-4171-9c42-74aa9b56e220"
      },
      "source": [
        "print(num_lines)"
      ],
      "execution_count": null,
      "outputs": [
        {
          "output_type": "stream",
          "text": [
            "118964\n"
          ],
          "name": "stdout"
        }
      ]
    },
    {
      "cell_type": "code",
      "metadata": {
        "colab": {
          "base_uri": "https://localhost:8080/"
        },
        "id": "410e0tl288uI",
        "outputId": "946a218a-eff1-4169-ebdb-2fce3f3f6ef4"
      },
      "source": [
        "file1=open(\"spa.txt\")\n",
        "nlines=210\n",
        "for i in range(nlines):\n",
        "  readl=file1.readline()\n",
        "  print(readl)\n"
      ],
      "execution_count": null,
      "outputs": [
        {
          "output_type": "stream",
          "text": [
            "Go.\tVe.\n",
            "\n",
            "Go.\tVete.\n",
            "\n",
            "Go.\tVaya.\n",
            "\n",
            "Go.\tVáyase.\n",
            "\n",
            "Hi.\tHola.\n",
            "\n",
            "Run!\t¡Corre!\n",
            "\n",
            "Run.\tCorred.\n",
            "\n",
            "Who?\t¿Quién?\n",
            "\n",
            "Fire!\t¡Fuego!\n",
            "\n",
            "Fire!\t¡Incendio!\n",
            "\n",
            "Fire!\t¡Disparad!\n",
            "\n",
            "Help!\t¡Ayuda!\n",
            "\n",
            "Help!\t¡Socorro! ¡Auxilio!\n",
            "\n",
            "Help!\t¡Auxilio!\n",
            "\n",
            "Jump!\t¡Salta!\n",
            "\n",
            "Jump.\tSalte.\n",
            "\n",
            "Stop!\t¡Parad!\n",
            "\n",
            "Stop!\t¡Para!\n",
            "\n",
            "Stop!\t¡Pare!\n",
            "\n",
            "Wait!\t¡Espera!\n",
            "\n",
            "Wait.\tEsperen.\n",
            "\n",
            "Go on.\tContinúa.\n",
            "\n",
            "Go on.\tContinúe.\n",
            "\n",
            "Hello!\tHola.\n",
            "\n",
            "I ran.\tCorrí.\n",
            "\n",
            "I ran.\tCorría.\n",
            "\n",
            "I try.\tLo intento.\n",
            "\n",
            "I won!\t¡He ganado!\n",
            "\n",
            "Oh no!\t¡Oh, no!\n",
            "\n",
            "Relax.\tTomátelo con soda.\n",
            "\n",
            "Smile.\tSonríe.\n",
            "\n",
            "Attack!\t¡Al ataque!\n",
            "\n",
            "Attack!\t¡Atacad!\n",
            "\n",
            "Get up.\tLevanta.\n",
            "\n",
            "Go now.\tVe ahora mismo.\n",
            "\n",
            "Got it!\t¡Lo tengo!\n",
            "\n",
            "Got it?\t¿Lo pillas?\n",
            "\n",
            "Got it?\t¿Entendiste?\n",
            "\n",
            "He ran.\tÉl corrió.\n",
            "\n",
            "Hop in.\tMétete adentro.\n",
            "\n",
            "Hug me.\tAbrázame.\n",
            "\n",
            "I fell.\tMe caí.\n",
            "\n",
            "I know.\tYo lo sé.\n",
            "\n",
            "I left.\tSalí.\n",
            "\n",
            "I lied.\tMentí.\n",
            "\n",
            "I lost.\tPerdí.\n",
            "\n",
            "I quit.\tDimito.\n",
            "\n",
            "I quit.\tRenuncié.\n",
            "\n",
            "I work.\tEstoy trabajando.\n",
            "\n",
            "I'm 19.\tTengo diecinueve.\n",
            "\n",
            "I'm up.\tEstoy levantado.\n",
            "\n",
            "Listen.\tEscucha.\n",
            "\n",
            "Listen.\tEscuche.\n",
            "\n",
            "Listen.\tEscuchen.\n",
            "\n",
            "No way!\t¡No puede ser!\n",
            "\n",
            "No way!\tDe ninguna manera.\n",
            "\n",
            "No way!\t¡De ninguna manera!\n",
            "\n",
            "No way!\t¡Imposible!\n",
            "\n",
            "No way!\t¡De ningún modo!\n",
            "\n",
            "No way!\t¡De eso nada!\n",
            "\n",
            "No way!\t¡Ni cagando!\n",
            "\n",
            "No way!\t¡Mangos!\n",
            "\n",
            "No way!\t¡Minga!\n",
            "\n",
            "No way!\t¡Ni en pedo!\n",
            "\n",
            "Really?\t¿En serio?\n",
            "\n",
            "Really?\t¿La verdad?\n",
            "\n",
            "Thanks.\t¡Gracias!\n",
            "\n",
            "Thanks.\tGracias.\n",
            "\n",
            "Try it.\tPruébalo.\n",
            "\n",
            "We try.\tLo procuramos.\n",
            "\n",
            "We won.\tGanamos.\n",
            "\n",
            "Why me?\t¿Por qué yo?\n",
            "\n",
            "Ask Tom.\tPregúntale a Tom.\n",
            "\n",
            "Awesome!\t¡Órale!\n",
            "\n",
            "Be calm.\tMantente en calma.\n",
            "\n",
            "Be cool.\tEstate tranquilo.\n",
            "\n",
            "Be fair.\tSé justo.\n",
            "\n",
            "Be kind.\tSean gentiles.\n",
            "\n",
            "Be nice.\tSé agradable.\n",
            "\n",
            "Beat it.\tPírate.\n",
            "\n",
            "Call me.\tLlamame.\n",
            "\n",
            "Call me.\tLlamadme.\n",
            "\n",
            "Call me.\tLlámame.\n",
            "\n",
            "Call us.\tLlámanos.\n",
            "\n",
            "Come in.\tEntre.\n",
            "\n",
            "Come in.\tPase.\n",
            "\n",
            "Come in.\t¡Entren!\n",
            "\n",
            "Come on!\t¡Órale!\n",
            "\n",
            "Come on.\tÁndale.\n",
            "\n",
            "Come on.\t¡Órale!\n",
            "\n",
            "Drop it!\tSuéltalo.\n",
            "\n",
            "Get Tom.\tAgarra a Tom.\n",
            "\n",
            "Get out!\tBájate.\n",
            "\n",
            "Get out.\tSalte.\n",
            "\n",
            "Get out.\tSal.\n",
            "\n",
            "Get out.\tSalí.\n",
            "\n",
            "Get out.\tSalid.\n",
            "\n",
            "Get out.\tSalgan.\n",
            "\n",
            "Go away!\t¡Vete de aquí!\n",
            "\n",
            "Go away!\t¡Lárgate!\n",
            "\n",
            "Go away!\t¡Salga de aquí!\n",
            "\n",
            "Go away!\t¡Largo!\n",
            "\n",
            "Go away!\t¡Vete ya!\n",
            "\n",
            "Go away!\t¡Órale!\n",
            "\n",
            "Go away!\t¡A la calle!\n",
            "\n",
            "Go away.\t¡Vete de aquí!\n",
            "\n",
            "Go away.\t¡Lárgate!\n",
            "\n",
            "Go away.\t¡Largo!\n",
            "\n",
            "Go away.\t¡Vete ya!\n",
            "\n",
            "Go away.\t¡Órale!\n",
            "\n",
            "Go away.\tLárguese.\n",
            "\n",
            "Go away.\tVáyase.\n",
            "\n",
            "Go home.\tVete a casa.\n",
            "\n",
            "Go slow.\tVaya despacio.\n",
            "\n",
            "Goodbye!\t¡Hasta luego!\n",
            "\n",
            "Goodbye!\tHasta la vista.\n",
            "\n",
            "Goodbye!\t¡Chau!\n",
            "\n",
            "Hang on!\t¡Espera!\n",
            "\n",
            "Hang on!\t¡Espera un momento!\n",
            "\n",
            "Hang on!\t¡Un segundo!\n",
            "\n",
            "Hang on.\tAgarra fuertemente.\n",
            "\n",
            "He came.\tÉl vino.\n",
            "\n",
            "He quit.\tÉl renunció.\n",
            "\n",
            "Help me!\tAyúdame.\n",
            "\n",
            "Help me.\tAyúdame.\n",
            "\n",
            "Help me.\tÉchame una mano.\n",
            "\n",
            "Help me.\tAyudame.\n",
            "\n",
            "Help us.\tAyúdanos.\n",
            "\n",
            "Hit Tom.\tGolpea a Tom.\n",
            "\n",
            "Hold it!\tEspera.\n",
            "\n",
            "Hold on.\tResista.\n",
            "\n",
            "Hold on.\tResiste.\n",
            "\n",
            "Hold on.\tAgarra fuertemente.\n",
            "\n",
            "Hug Tom.\tAbraza a Tom.\n",
            "\n",
            "I agree.\tEstoy de acuerdo.\n",
            "\n",
            "I agree.\tDe acuerdo.\n",
            "\n",
            "I bowed.\tMe incliné.\n",
            "\n",
            "I moved.\tMe he mudado.\n",
            "\n",
            "I moved.\tMe mudé.\n",
            "\n",
            "I moved.\tMe trasladé.\n",
            "\n",
            "I moved.\tMe he trasladado.\n",
            "\n",
            "I slept.\tDormí.\n",
            "\n",
            "I tried.\tLo intenté.\n",
            "\n",
            "I'll go.\tIré.\n",
            "\n",
            "I'm Tom.\tSoy Tom.\n",
            "\n",
            "I'm fat.\tEstoy gordo.\n",
            "\n",
            "I'm fat.\tSoy gorda.\n",
            "\n",
            "I'm fit.\tEstoy en forma.\n",
            "\n",
            "I'm hit!\tEstoy afectado.\n",
            "\n",
            "I'm old.\tSoy viejo.\n",
            "\n",
            "I'm shy.\tSoy tímido.\n",
            "\n",
            "I'm wet.\tEstoy mojada.\n",
            "\n",
            "It's OK.\tEstá bien.\n",
            "\n",
            "It's me!\tSoy yo.\n",
            "\n",
            "It's me.\tSoy yo.\n",
            "\n",
            "Join us.\tÚnete a nosotros.\n",
            "\n",
            "Join us.\tSé parte nuestra.\n",
            "\n",
            "Keep it.\tGuárdalo.\n",
            "\n",
            "Me, too.\tYo, también.\n",
            "\n",
            "Open up.\tAbre.\n",
            "\n",
            "Perfect!\t¡Perfecto!\n",
            "\n",
            "See you.\tNos vemos.\n",
            "\n",
            "Show me.\tMuéstramelo.\n",
            "\n",
            "Show me.\tEnséñamelo.\n",
            "\n",
            "Show me.\tMostrame.\n",
            "\n",
            "Shut up!\t¡Cierra la boca!\n",
            "\n",
            "Shut up!\t¡Cerrá el pico!\n",
            "\n",
            "Skip it.\tSáltatelo.\n",
            "\n",
            "So long.\tHasta la vista.\n",
            "\n",
            "So long.\tHasta luego.\n",
            "\n",
            "Stop it.\tPáralo.\n",
            "\n",
            "Stop it.\tDeténlo.\n",
            "\n",
            "Take it.\tCógelo.\n",
            "\n",
            "Tell me.\tDecime.\n",
            "\n",
            "Tom ate.\tTom comió.\n",
            "\n",
            "Tom ran.\tTom corrió.\n",
            "\n",
            "Tom won.\tTom ganó.\n",
            "\n",
            "Wait up.\tEspérame despierto.\n",
            "\n",
            "Wake up!\t¡Despierta!\n",
            "\n",
            "Wake up!\t¡Despiértate!\n",
            "\n",
            "Wake up!\t¡Despertate!\n",
            "\n",
            "Wake up.\tDespierta.\n",
            "\n",
            "Wash up.\tLávate las manos.\n",
            "\n",
            "We care.\tNos preocupamos.\n",
            "\n",
            "We know.\tLo sabemos.\n",
            "\n",
            "We lost.\tPerdimos.\n",
            "\n",
            "Welcome.\tBienvenidos.\n",
            "\n",
            "Welcome.\tBienvenidas.\n",
            "\n",
            "Who ate?\t¿Quién comió?\n",
            "\n",
            "Who ran?\t¿Quién corría?\n",
            "\n",
            "Who ran?\t¿Quién corrió?\n",
            "\n",
            "Who won?\t¿Quién ganó?\n",
            "\n",
            "Who won?\t¿Quién ha ganado?\n",
            "\n",
            "Why not?\t¿Por qué no?\n",
            "\n",
            "You run.\tCorre.\n",
            "\n",
            "You won.\tHas ganado.\n",
            "\n",
            "Am I fat?\t¿Estoy gordo?\n",
            "\n",
            "Ask them.\tPreguntales.\n",
            "\n",
            "Ask them.\tPregúntales.\n",
            "\n",
            "Back off!\tAparta.\n",
            "\n",
            "Back off.\tApártate.\n",
            "\n",
            "Be a man.\tSé un hombre.\n",
            "\n",
            "Be brave.\tSé fuerte.\n",
            "\n",
            "Be brief.\tSé breve.\n",
            "\n",
            "Be brief.\tSea breve.\n",
            "\n",
            "Be brief.\tSean breves.\n",
            "\n",
            "Be quiet.\tEstate quieto.\n",
            "\n",
            "Be still.\tNo te muevas.\n",
            "\n",
            "Call Tom.\t¡Llamalo a Tomás!\n",
            "\n",
            "Call Tom.\t¡Llámalo a Tomás!\n",
            "\n"
          ],
          "name": "stdout"
        }
      ]
    },
    {
      "cell_type": "markdown",
      "metadata": {
        "id": "j-yT64dH5oQt"
      },
      "source": [
        "##Preparing the data\n",
        "1.Add \"</start/> and </end/>\" token to each sentance like ...\n",
        "\n",
        "\"</start/>call tom</end/>\"\n",
        "\n",
        "\"</start/>¡Llámalo a Tomás!</end/>\"\n",
        "\n",
        "\n",
        "2.Clean the sentances by removing special characters etc\n",
        "\n",
        "3.Create word index and reverse word index\n",
        "\n",
        "{dict having word -->id and id-->word}\n",
        "\n",
        "4.Pad each sentance to max length\n",
        "say max_length = 20 "
      ]
    },
    {
      "cell_type": "code",
      "metadata": {
        "id": "mWHhLfLE5in1"
      },
      "source": [
        "# Converts the unicode file to ascii\n",
        "def unicode_to_ascii(s):\n",
        "  return ''.join(c for c in unicodedata.normalize('NFD', s)\n",
        "                 if unicodedata.category(c) != 'Mn')\n",
        "\n",
        "\n",
        "#in this step we are spacing the word and punctuations\n",
        "#keeping the dataset with only words and punctuations and removing extra spaces\n",
        "#stripping the whitespaces\n",
        "#finally adding start and end token to the sentance\n",
        "def preprocess_sentence(w):\n",
        "  w = unicode_to_ascii(w.lower().strip())\n",
        "\n",
        "  # creating a space between a word and the punctuation following it\n",
        "  # eg: \"he is a boy.\" => \"he is a boy .\"\n",
        "  # Reference:- https://stackoverflow.com/questions/3645931/python-padding-punctuation-with-white-spaces-keeping-punctuation\n",
        "  w = re.sub(r\"([?.!,¿])\", r\" \\1 \", w)\n",
        "  w = re.sub(r'[\" \"]+', \" \", w)\n",
        "\n",
        "  # replacing everything with space except (a-z, A-Z, \".\", \"?\", \"!\", \",\")\n",
        "  w = re.sub(r\"[^a-zA-Z?.!,¿]+\", \" \", w)\n",
        "\n",
        "  w = w.strip()\n",
        "\n",
        "  # adding a start and an end token to the sentence\n",
        "  # so that the model know when to start and stop predicting.\n",
        "  w = '<start> ' + w + ' <end>'\n",
        "  return w\n"
      ],
      "execution_count": 4,
      "outputs": []
    },
    {
      "cell_type": "markdown",
      "metadata": {
        "id": "JtByFszmDkZd"
      },
      "source": [
        "####Citing an example to preprocess sentance :"
      ]
    },
    {
      "cell_type": "code",
      "metadata": {
        "colab": {
          "base_uri": "https://localhost:8080/"
        },
        "id": "gJT2Fyo4C1UU",
        "outputId": "a0d1246b-6f57-469a-f491-ec8466d55ad0"
      },
      "source": [
        "en_sentence = u\"May I borrow this book?\"\n",
        "sp_sentence = u\"¿Puedo tomar prestado este libro?\"\n",
        "print(preprocess_sentence(en_sentence))\n",
        "print(preprocess_sentence(sp_sentence).encode('utf-8'))\n"
      ],
      "execution_count": null,
      "outputs": [
        {
          "output_type": "stream",
          "text": [
            "<start> may i borrow this book ? <end>\n",
            "b'<start> \\xc2\\xbf puedo tomar prestado este libro ? <end>'\n"
          ],
          "name": "stdout"
        }
      ]
    },
    {
      "cell_type": "code",
      "metadata": {
        "id": "t2BPEO6jQ4s3"
      },
      "source": [
        "# 1. Remove the accents\n",
        "# 2. Clean the sentences\n",
        "# 3. Return word pairs in the format: [ENGLISH, SPANISH]\n",
        "def create_dataset(path, num_examples):\n",
        "  lines = io.open(path, encoding='UTF-8').read().strip().split('\\n')\n",
        "\n",
        "  word_pairs = [[preprocess_sentence(w) for w in line.split('\\t')]\n",
        "                for line in lines[:num_examples]]\n",
        "\n",
        "  return zip(*word_pairs)\n"
      ],
      "execution_count": 5,
      "outputs": []
    },
    {
      "cell_type": "code",
      "metadata": {
        "id": "5Q6eUl9ySOHP",
        "colab": {
          "base_uri": "https://localhost:8080/"
        },
        "outputId": "60fa0ca6-8637-42ce-e866-15f50f3b47e6"
      },
      "source": [
        "en, sp = create_dataset(path_to_file, None)\n",
        "print(en[-1])\n",
        "print(sp[-1])"
      ],
      "execution_count": 6,
      "outputs": [
        {
          "output_type": "stream",
          "text": [
            "<start> if you want to sound like a native speaker , you must be willing to practice saying the same sentence over and over in the same way that banjo players practice the same phrase over and over until they can play it correctly and at the desired tempo . <end>\n",
            "<start> si quieres sonar como un hablante nativo , debes estar dispuesto a practicar diciendo la misma frase una y otra vez de la misma manera en que un musico de banjo practica el mismo fraseo una y otra vez hasta que lo puedan tocar correctamente y en el tiempo esperado . <end>\n"
          ],
          "name": "stdout"
        }
      ]
    },
    {
      "cell_type": "code",
      "metadata": {
        "id": "lyAzQSCzYFbF"
      },
      "source": [
        "def tokenize(lang):\n",
        "  lang_tokenizer = tf.keras.preprocessing.text.Tokenizer(filters='')\n",
        "  lang_tokenizer.fit_on_texts(lang)\n",
        "\n",
        "  tensor = lang_tokenizer.texts_to_sequences(lang)\n",
        "\n",
        "  tensor = tf.keras.preprocessing.sequence.pad_sequences(tensor,\n",
        "                                                         padding='post')\n",
        "\n",
        "  return tensor, lang_tokenizer"
      ],
      "execution_count": 7,
      "outputs": []
    },
    {
      "cell_type": "code",
      "metadata": {
        "id": "Q-BmLSE2YLTB"
      },
      "source": [
        "def load_dataset(path, num_examples=None):\n",
        "  # creating cleaned input, output pairs\n",
        "  targ_lang, inp_lang = create_dataset(path, num_examples)\n",
        "\n",
        "  input_tensor, inp_lang_tokenizer = tokenize(inp_lang)\n",
        "  target_tensor, targ_lang_tokenizer = tokenize(targ_lang)\n",
        "\n",
        "  return input_tensor, target_tensor, inp_lang_tokenizer, targ_lang_tokenizer"
      ],
      "execution_count": 8,
      "outputs": []
    },
    {
      "cell_type": "markdown",
      "metadata": {
        "id": "_Ln9TGOkYRtu"
      },
      "source": [
        "##Limiting the size of dataset\n",
        "Training on complete set takes long time.So have considered only 30,000 samples\n"
      ]
    },
    {
      "cell_type": "code",
      "metadata": {
        "id": "CiOgW07mYQqO"
      },
      "source": [
        "# Try experimenting with the size of that dataset\n",
        "num_examples = 30000\n",
        "input_tensor, target_tensor, inp_lang, targ_lang = load_dataset(path_to_file,\n",
        "                                                                num_examples)\n",
        "\n",
        "# Calculate max_length of the target tensors\n",
        "max_length_targ, max_length_inp = target_tensor.shape[1], input_tensor.shape[1]"
      ],
      "execution_count": 9,
      "outputs": []
    },
    {
      "cell_type": "code",
      "metadata": {
        "colab": {
          "base_uri": "https://localhost:8080/"
        },
        "id": "UMF1LJdtYigl",
        "outputId": "6d7c0b16-c30f-4674-d2af-faa4587fc291"
      },
      "source": [
        "input_tensor.shape[0]"
      ],
      "execution_count": null,
      "outputs": [
        {
          "output_type": "execute_result",
          "data": {
            "text/plain": [
              "30000"
            ]
          },
          "metadata": {
            "tags": []
          },
          "execution_count": 15
        }
      ]
    },
    {
      "cell_type": "code",
      "metadata": {
        "colab": {
          "base_uri": "https://localhost:8080/"
        },
        "id": "KmSVwasgYl0R",
        "outputId": "fa3226ec-3659-4f89-c08c-55d08ef37653"
      },
      "source": [
        "input_tensor.shape[1]"
      ],
      "execution_count": null,
      "outputs": [
        {
          "output_type": "execute_result",
          "data": {
            "text/plain": [
              "16"
            ]
          },
          "metadata": {
            "tags": []
          },
          "execution_count": 16
        }
      ]
    },
    {
      "cell_type": "code",
      "metadata": {
        "colab": {
          "base_uri": "https://localhost:8080/"
        },
        "id": "8m09B2NhYoLx",
        "outputId": "05d0422c-a629-4d10-81f5-555ebf01bb73"
      },
      "source": [
        "target_tensor.shape[1]"
      ],
      "execution_count": null,
      "outputs": [
        {
          "output_type": "execute_result",
          "data": {
            "text/plain": [
              "11"
            ]
          },
          "metadata": {
            "tags": []
          },
          "execution_count": 19
        }
      ]
    },
    {
      "cell_type": "code",
      "metadata": {
        "colab": {
          "base_uri": "https://localhost:8080/"
        },
        "id": "Kz2RiKPwYqPm",
        "outputId": "7890a613-9682-4b29-ea6a-477c11ad51b1"
      },
      "source": [
        "# Creating training and validation sets using an 80-20 split\n",
        "input_tensor_train, input_tensor_val, target_tensor_train, target_tensor_val = train_test_split(input_tensor, target_tensor, test_size=0.2)\n",
        "\n",
        "# Show length\n",
        "print(len(input_tensor_train), len(target_tensor_train), len(input_tensor_val), len(target_tensor_val))"
      ],
      "execution_count": 10,
      "outputs": [
        {
          "output_type": "stream",
          "text": [
            "24000 24000 6000 6000\n"
          ],
          "name": "stdout"
        }
      ]
    },
    {
      "cell_type": "code",
      "metadata": {
        "colab": {
          "base_uri": "https://localhost:8080/"
        },
        "id": "qEIZDQHUYxsE",
        "outputId": "d2fbddcb-4113-4a11-fa03-baba2ce07dc7"
      },
      "source": [
        "inp_lang.word_index['<start>']"
      ],
      "execution_count": null,
      "outputs": [
        {
          "output_type": "execute_result",
          "data": {
            "text/plain": [
              "1"
            ]
          },
          "metadata": {
            "tags": []
          },
          "execution_count": 22
        }
      ]
    },
    {
      "cell_type": "code",
      "metadata": {
        "colab": {
          "base_uri": "https://localhost:8080/"
        },
        "id": "NJSQ56IxZCdP",
        "outputId": "dc326618-df26-400d-944e-76798f6279b0"
      },
      "source": [
        "input_tensor[0]"
      ],
      "execution_count": null,
      "outputs": [
        {
          "output_type": "execute_result",
          "data": {
            "text/plain": [
              "array([  1, 135,   3,   2,   0,   0,   0,   0,   0,   0,   0,   0,   0,\n",
              "         0,   0,   0], dtype=int32)"
            ]
          },
          "metadata": {
            "tags": []
          },
          "execution_count": 23
        }
      ]
    },
    {
      "cell_type": "code",
      "metadata": {
        "colab": {
          "base_uri": "https://localhost:8080/"
        },
        "id": "lkijjsC3Y7E0",
        "outputId": "75345e77-2f91-4926-be8e-be1725859ea1"
      },
      "source": [
        "for i in input_tensor[0]:\n",
        "  if i!=0:\n",
        "    print(i,\"----vector equals to word ----\",inp_lang.index_word[i])\n"
      ],
      "execution_count": null,
      "outputs": [
        {
          "output_type": "stream",
          "text": [
            "1 ----vector equals to word ---- <start>\n",
            "135 ----vector equals to word ---- ve\n",
            "3 ----vector equals to word ---- .\n",
            "2 ----vector equals to word ---- <end>\n"
          ],
          "name": "stdout"
        }
      ]
    },
    {
      "cell_type": "code",
      "metadata": {
        "id": "3p_6dq-kZOnW"
      },
      "source": [
        "def convert(lang, tensor):\n",
        "  for t in tensor:\n",
        "    if t != 0:\n",
        "      print(f'{t} ----> {lang.index_word[t]}')"
      ],
      "execution_count": null,
      "outputs": []
    },
    {
      "cell_type": "code",
      "metadata": {
        "colab": {
          "base_uri": "https://localhost:8080/"
        },
        "id": "j-uX1MDxZZr9",
        "outputId": "9bace929-44d4-414b-a739-f8660849e7a1"
      },
      "source": [
        "print(\"Input Language; index to word mapping\")\n",
        "convert(inp_lang, input_tensor_train[0])\n",
        "print()\n",
        "print(\"Target Language; index to word mapping\")\n",
        "convert(targ_lang, target_tensor_train[0])"
      ],
      "execution_count": null,
      "outputs": [
        {
          "output_type": "stream",
          "text": [
            "Input Language; index to word mapping\n",
            "1 ----> <start>\n",
            "145 ----> cuando\n",
            "224 ----> uno\n",
            "8 ----> no\n",
            "106 ----> quiere\n",
            "32 ----> ,\n",
            "98 ----> dos\n",
            "8 ----> no\n",
            "9039 ----> pelean\n",
            "3 ----> .\n",
            "2 ----> <end>\n",
            "\n",
            "Target Language; index to word mapping\n",
            "1 ----> <start>\n",
            "10 ----> it\n",
            "976 ----> takes\n",
            "208 ----> two\n",
            "15 ----> to\n",
            "3177 ----> tango\n",
            "3 ----> .\n",
            "2 ----> <end>\n"
          ],
          "name": "stdout"
        }
      ]
    },
    {
      "cell_type": "markdown",
      "metadata": {
        "id": "cQdaZVVxZjiO"
      },
      "source": [
        "##Creating tf.Dataset"
      ]
    },
    {
      "cell_type": "code",
      "metadata": {
        "id": "qk9IDXyZZcNp"
      },
      "source": [
        "BUFFER_SIZE = len(input_tensor_train)\n",
        "BATCH_SIZE = 64\n",
        "steps_per_epoch = BUFFER_SIZE//BATCH_SIZE"
      ],
      "execution_count": 11,
      "outputs": []
    },
    {
      "cell_type": "code",
      "metadata": {
        "colab": {
          "base_uri": "https://localhost:8080/"
        },
        "id": "hJuEcVw7Z5GD",
        "outputId": "59ffc75c-c423-4d6e-dfc0-574d676b7f59"
      },
      "source": [
        "steps_per_epoch"
      ],
      "execution_count": null,
      "outputs": [
        {
          "output_type": "execute_result",
          "data": {
            "text/plain": [
              "375"
            ]
          },
          "metadata": {
            "tags": []
          },
          "execution_count": 39
        }
      ]
    },
    {
      "cell_type": "code",
      "metadata": {
        "colab": {
          "base_uri": "https://localhost:8080/"
        },
        "id": "a6EB_xfpZ-bY",
        "outputId": "74dc862e-989a-42de-9424-4da533e06034"
      },
      "source": [
        "len(inp_lang.word_index)"
      ],
      "execution_count": null,
      "outputs": [
        {
          "output_type": "execute_result",
          "data": {
            "text/plain": [
              "9413"
            ]
          },
          "metadata": {
            "tags": []
          },
          "execution_count": 40
        }
      ]
    },
    {
      "cell_type": "code",
      "metadata": {
        "colab": {
          "base_uri": "https://localhost:8080/"
        },
        "id": "f8fGw8ZVaMq6",
        "outputId": "43334b58-2c9a-4acf-ddc5-f304fa1e793f"
      },
      "source": [
        "len(targ_lang.word_index)"
      ],
      "execution_count": null,
      "outputs": [
        {
          "output_type": "execute_result",
          "data": {
            "text/plain": [
              "4934"
            ]
          },
          "metadata": {
            "tags": []
          },
          "execution_count": 42
        }
      ]
    },
    {
      "cell_type": "code",
      "metadata": {
        "id": "YUfBpfRQaPfJ"
      },
      "source": [
        "embedding_dim = 256\n",
        "units = 1024\n",
        "vocab_inp_size = len(inp_lang.word_index)+1\n",
        "vocab_tar_size = len(targ_lang.word_index)+1"
      ],
      "execution_count": 12,
      "outputs": []
    },
    {
      "cell_type": "code",
      "metadata": {
        "id": "paLzY0rqadv-"
      },
      "source": [
        "dataset = tf.data.Dataset.from_tensor_slices((input_tensor_train, target_tensor_train)).shuffle(BUFFER_SIZE)"
      ],
      "execution_count": 13,
      "outputs": []
    },
    {
      "cell_type": "code",
      "metadata": {
        "id": "xG20nhB5b07n"
      },
      "source": [
        "dataset = dataset.batch(BATCH_SIZE, drop_remainder=True)"
      ],
      "execution_count": 14,
      "outputs": []
    },
    {
      "cell_type": "code",
      "metadata": {
        "id": "GFDW1kBXb4U0"
      },
      "source": [
        "#l=list(dataset.as_numpy_iterator())"
      ],
      "execution_count": 39,
      "outputs": []
    },
    {
      "cell_type": "code",
      "metadata": {
        "id": "R4bgWA92csPI"
      },
      "source": [
        "#len(l)"
      ],
      "execution_count": 38,
      "outputs": []
    },
    {
      "cell_type": "code",
      "metadata": {
        "id": "kPSUwtBFc3d_"
      },
      "source": [
        "inp,tar = zip(*list(dataset.as_numpy_iterator()))"
      ],
      "execution_count": null,
      "outputs": []
    },
    {
      "cell_type": "code",
      "metadata": {
        "colab": {
          "base_uri": "https://localhost:8080/"
        },
        "id": "aBVU-mvxcvIJ",
        "outputId": "8f9e899f-52d3-4cdb-b755-79cfbc822ab3"
      },
      "source": [
        "len(inp)"
      ],
      "execution_count": null,
      "outputs": [
        {
          "output_type": "execute_result",
          "data": {
            "text/plain": [
              "375"
            ]
          },
          "metadata": {
            "tags": []
          },
          "execution_count": 65
        }
      ]
    },
    {
      "cell_type": "code",
      "metadata": {
        "colab": {
          "base_uri": "https://localhost:8080/"
        },
        "id": "6jXbJ4MVcSEV",
        "outputId": "e7eb5bdc-2caf-42b1-c132-6c99c612333c"
      },
      "source": [
        "example_input_batch, example_target_batch = next(iter(dataset))\n",
        "example_input_batch.shape, example_target_batch.shape"
      ],
      "execution_count": 15,
      "outputs": [
        {
          "output_type": "execute_result",
          "data": {
            "text/plain": [
              "(TensorShape([64, 16]), TensorShape([64, 11]))"
            ]
          },
          "metadata": {
            "tags": []
          },
          "execution_count": 15
        }
      ]
    },
    {
      "cell_type": "markdown",
      "metadata": {
        "id": "rZ7Vw9LNdYRf"
      },
      "source": [
        "##Encoder Model\n",
        "vocab_inp and embedding size ---> embedding layer\n",
        "\n",
        "enc_units --->RNN model\n",
        "\n",
        "batch_size ---> initializing embeddings\n",
        "\n",
        "here there are 2 layers -- embedding and GRU"
      ]
    },
    {
      "cell_type": "code",
      "metadata": {
        "id": "pfyaANeUdJZs"
      },
      "source": [
        "class Encoder(tf.keras.Model):\n",
        "  def __init__(self, vocab_size, embedding_dim, enc_units, batch_sz):\n",
        "    super(Encoder, self).__init__()\n",
        "    self.batch_sz = batch_sz\n",
        "    self.enc_units = enc_units\n",
        "    self.embedding = tf.keras.layers.Embedding(vocab_size, embedding_dim)\n",
        "    self.gru = tf.keras.layers.GRU(self.enc_units,\n",
        "                                   return_sequences=True,\n",
        "                                   return_state=True,\n",
        "                                   recurrent_initializer='glorot_uniform')\n",
        "\n",
        "  def call(self, x, hidden):\n",
        "    x = self.embedding(x)\n",
        "    output, state = self.gru(x, initial_state=hidden)\n",
        "    return output, state\n",
        "\n",
        "  def initialize_hidden_state(self):\n",
        "    return tf.zeros((self.batch_sz, self.enc_units))"
      ],
      "execution_count": 16,
      "outputs": []
    },
    {
      "cell_type": "code",
      "metadata": {
        "id": "mm44XWfLd9SO"
      },
      "source": [
        "#initilaize encoder object with variables/parameters required\n",
        "encoder = Encoder(vocab_inp_size, embedding_dim, units, BATCH_SIZE)\n"
      ],
      "execution_count": 17,
      "outputs": []
    },
    {
      "cell_type": "code",
      "metadata": {
        "colab": {
          "base_uri": "https://localhost:8080/"
        },
        "id": "j6ELleLKeWIx",
        "outputId": "21af4973-1bc4-4574-8457-ec1b98b76c79"
      },
      "source": [
        "# sample input\n",
        "sample_hidden = encoder.initialize_hidden_state()\n",
        "sample_output, sample_hidden = encoder(example_input_batch, sample_hidden)\n",
        "print('Encoder output shape: (batch size, sequence length, units)', sample_output.shape)\n",
        "print('Encoder Hidden state shape: (batch size, units)', sample_hidden.shape)"
      ],
      "execution_count": 18,
      "outputs": [
        {
          "output_type": "stream",
          "text": [
            "Encoder output shape: (batch size, sequence length, units) (64, 16, 1024)\n",
            "Encoder Hidden state shape: (batch size, units) (64, 1024)\n"
          ],
          "name": "stdout"
        }
      ]
    },
    {
      "cell_type": "markdown",
      "metadata": {
        "id": "g325SG7ned-A"
      },
      "source": [
        "##Attention Mechanism \n",
        "similar to jay alammar blog\n",
        "Here hidden state of encoder and encoder output is passed\n",
        "\n",
        "Let's decide on notation before writing the simplified form:\n",
        "\n",
        "FC = Fully connected (dense) layer\n",
        "EO = Encoder output\n",
        "H = hidden state\n",
        "X = input to the decoder\n",
        "And the pseudo-code:\n",
        "\n",
        "###score = FC(tanh(FC(EO) + FC(H)))\n",
        "###attention weights = softmax(score, axis = 1). \n",
        "Softmax by default is applied on the last axis but here we want to apply it on the 1st axis, since the shape of score is (batch_size, max_length, hidden_size). Max_length is the length of our input. Since we are trying to assign a weight to each input, softmax should be applied on that axis.\n",
        "\n",
        "###context vector = sum(attention weights * EO, axis = 1).\n",
        "Same reason as above for choosing axis as 1.\n",
        "\n",
        "###embedding output = The input to the decoder X is passed through an embedding layer.\n",
        "\n",
        "###merged vector = concat(embedding output, context vector)\n",
        "This merged vector is then given to the GRU"
      ]
    },
    {
      "cell_type": "code",
      "metadata": {
        "id": "Luftk1RdeYXT"
      },
      "source": [
        "class BahdanauAttention(tf.keras.layers.Layer):\n",
        "  def __init__(self, units):\n",
        "    super(BahdanauAttention, self).__init__()\n",
        "    self.W1 = tf.keras.layers.Dense(units)\n",
        "    self.W2 = tf.keras.layers.Dense(units)\n",
        "    self.V = tf.keras.layers.Dense(1)\n",
        "\n",
        "  def call(self, query, values):\n",
        "    # query hidden state shape == (batch_size, hidden size)\n",
        "    # query_with_time_axis shape == (batch_size, 1, hidden size)\n",
        "    # values shape == (batch_size, max_len, hidden size)\n",
        "    # we are doing this to broadcast addition along the time axis to calculate the score\n",
        "    query_with_time_axis = tf.expand_dims(query, 1)\n",
        "\n",
        "    # score shape == (batch_size, max_length, 1)\n",
        "    # we get 1 at the last axis because we are applying score to self.V\n",
        "    # the shape of the tensor before applying self.V is (batch_size, max_length, units)\n",
        "    score = self.V(tf.nn.tanh(\n",
        "        self.W1(query_with_time_axis) + self.W2(values)))\n",
        "\n",
        "    # attention_weights shape == (batch_size, max_length, 1)\n",
        "    attention_weights = tf.nn.softmax(score, axis=1)\n",
        "\n",
        "    # context_vector shape after sum == (batch_size, hidden_size)\n",
        "    context_vector = attention_weights * values\n",
        "    context_vector = tf.reduce_sum(context_vector, axis=1)\n",
        "\n",
        "    return context_vector, attention_weights"
      ],
      "execution_count": 19,
      "outputs": []
    },
    {
      "cell_type": "code",
      "metadata": {
        "colab": {
          "base_uri": "https://localhost:8080/"
        },
        "id": "jXXR_gNCfhVs",
        "outputId": "3820a4b4-6cf5-435b-a852-4e31826f18a2"
      },
      "source": [
        "#initializing the attention mechanism with 10units\n",
        "attention_layer = BahdanauAttention(10)\n",
        "attention_result, attention_weights = attention_layer(sample_hidden, sample_output)\n",
        "\n",
        "print(\"Attention result shape: (batch size, units)\", attention_result.shape)\n",
        "print(\"Attention weights shape: (batch_size, sequence_length, 1)\", attention_weights.shape)"
      ],
      "execution_count": 20,
      "outputs": [
        {
          "output_type": "stream",
          "text": [
            "Attention result shape: (batch size, units) (64, 1024)\n",
            "Attention weights shape: (batch_size, sequence_length, 1) (64, 16, 1)\n"
          ],
          "name": "stdout"
        }
      ]
    },
    {
      "cell_type": "markdown",
      "metadata": {
        "id": "83AjFk3Th2-e"
      },
      "source": [
        "##Decoder Model\n",
        "vocab_tar,embedding size ---> embedding\n",
        "\n",
        "dec_units ---> RNN model\n",
        "\n",
        "Feedforward Neural network [FC layer] ---> vocab_tar [having the o/p]\n",
        "\n",
        "\n",
        "there are 3 layers here"
      ]
    },
    {
      "cell_type": "code",
      "metadata": {
        "id": "9Z3vWTvKfzl_"
      },
      "source": [
        "class Decoder(tf.keras.Model):\n",
        "  def __init__(self, vocab_size, embedding_dim, dec_units, batch_sz):\n",
        "    super(Decoder, self).__init__()\n",
        "    self.batch_sz = batch_sz\n",
        "    self.dec_units = dec_units\n",
        "    self.embedding = tf.keras.layers.Embedding(vocab_size, embedding_dim)\n",
        "    self.gru = tf.keras.layers.GRU(self.dec_units,\n",
        "                                   return_sequences=True,\n",
        "                                   return_state=True,\n",
        "                                   recurrent_initializer='glorot_uniform')\n",
        "    self.fc = tf.keras.layers.Dense(vocab_size)\n",
        "\n",
        "    # used for attention\n",
        "    self.attention = BahdanauAttention(self.dec_units)\n",
        "\n",
        "  def call(self, x, hidden, enc_output):\n",
        "    # enc_output shape == (batch_size, max_length, hidden_size)\n",
        "    context_vector, attention_weights = self.attention(hidden, enc_output)\n",
        "\n",
        "    # x shape after passing through embedding == (batch_size, 1, embedding_dim)\n",
        "    x = self.embedding(x)\n",
        "\n",
        "    # x shape after concatenation == (batch_size, 1, embedding_dim + hidden_size)\n",
        "    x = tf.concat([tf.expand_dims(context_vector, 1), x], axis=-1)\n",
        "\n",
        "    # passing the concatenated vector to the GRU\n",
        "    output, state = self.gru(x)\n",
        "\n",
        "    # output shape == (batch_size * 1, hidden_size)\n",
        "    output = tf.reshape(output, (-1, output.shape[2]))\n",
        "\n",
        "    # output shape == (batch_size, vocab)\n",
        "    x = self.fc(output)\n",
        "\n",
        "    return x, state, attention_weights"
      ],
      "execution_count": 21,
      "outputs": []
    },
    {
      "cell_type": "code",
      "metadata": {
        "colab": {
          "base_uri": "https://localhost:8080/"
        },
        "id": "5rwZI7yHi5HK",
        "outputId": "62fa9915-b60f-462d-dffb-339d6842a91f"
      },
      "source": [
        "#defining the decoder object with parameters\n",
        "decoder = Decoder(vocab_tar_size, embedding_dim, units, BATCH_SIZE)\n",
        "\n",
        "sample_decoder_output, _, _ = decoder(tf.random.uniform((BATCH_SIZE, 1)),\n",
        "                                      sample_hidden, sample_output)\n",
        "\n",
        "print('Decoder output shape: (batch_size, vocab size)', sample_decoder_output.shape)"
      ],
      "execution_count": 22,
      "outputs": [
        {
          "output_type": "stream",
          "text": [
            "Decoder output shape: (batch_size, vocab size) (64, 4935)\n"
          ],
          "name": "stdout"
        }
      ]
    },
    {
      "cell_type": "code",
      "metadata": {
        "colab": {
          "base_uri": "https://localhost:8080/"
        },
        "id": "mt3cHCogjLQJ",
        "outputId": "bbcf873d-a66e-40c4-ad90-215d21d8eb7a"
      },
      "source": [
        "tf.random.uniform((BATCH_SIZE, 1))[1:4]"
      ],
      "execution_count": 23,
      "outputs": [
        {
          "output_type": "execute_result",
          "data": {
            "text/plain": [
              "<tf.Tensor: shape=(3, 1), dtype=float32, numpy=\n",
              "array([[0.9799131 ],\n",
              "       [0.4418857 ],\n",
              "       [0.73093915]], dtype=float32)>"
            ]
          },
          "metadata": {
            "tags": []
          },
          "execution_count": 23
        }
      ]
    },
    {
      "cell_type": "markdown",
      "metadata": {
        "id": "JTIp1O7wjoDS"
      },
      "source": [
        "## Define the optimizer and the loss function"
      ]
    },
    {
      "cell_type": "code",
      "metadata": {
        "id": "W4PunHNCjOUk"
      },
      "source": [
        "optimizer = tf.keras.optimizers.Adam()\n",
        "loss_object = tf.keras.losses.SparseCategoricalCrossentropy(from_logits=True,\n",
        "                                                            reduction='none')\n",
        "\n",
        "\n",
        "def loss_function(real, pred):\n",
        "  mask = tf.math.logical_not(tf.math.equal(real, 0))\n",
        "  loss_ = loss_object(real, pred)\n",
        "\n",
        "  mask = tf.cast(mask, dtype=loss_.dtype)\n",
        "  loss_ *= mask\n",
        "\n",
        "  return tf.reduce_mean(loss_)"
      ],
      "execution_count": 24,
      "outputs": []
    },
    {
      "cell_type": "markdown",
      "metadata": {
        "id": "P5Gt19Bjj31W"
      },
      "source": [
        "##Saving the checkpoints of the model..basically we are svaing the objects"
      ]
    },
    {
      "cell_type": "code",
      "metadata": {
        "id": "eoeKjCx-jwGa"
      },
      "source": [
        "checkpoint_dir = './training_checkpoints'\n",
        "checkpoint_prefix = os.path.join(checkpoint_dir, \"ckpt\")\n",
        "checkpoint = tf.train.Checkpoint(optimizer=optimizer,\n",
        "                                 encoder=encoder,\n",
        "                                 decoder=decoder)"
      ],
      "execution_count": 25,
      "outputs": []
    },
    {
      "cell_type": "markdown",
      "metadata": {
        "id": "9YnToaxpoE2i"
      },
      "source": [
        "###Training The Model"
      ]
    },
    {
      "cell_type": "markdown",
      "metadata": {
        "id": "9dwUqbXNoMHo"
      },
      "source": [
        "![Step1.PNG](data:image/png;base64,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)"
      ]
    },
    {
      "cell_type": "markdown",
      "metadata": {
        "id": "2Zm5UbJNpQnM"
      },
      "source": [
        "![Step2.PNG](data:image/png;base64,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)"
      ]
    },
    {
      "cell_type": "markdown",
      "metadata": {
        "id": "-E6gi8IEqBLl"
      },
      "source": [
        "![Step3.PNG](data:image/png;base64,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)"
      ]
    },
    {
      "cell_type": "markdown",
      "metadata": {
        "id": "TjVmTWdzrynJ"
      },
      "source": [
        "![Step4.PNG](data:image/png;base64,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)"
      ]
    },
    {
      "cell_type": "markdown",
      "metadata": {
        "id": "JIxsC4KOs2NU"
      },
      "source": [
        "Basicaly target language equivalent of i that is juis in case of eng-spanish in spanish\n",
        "\n",
        "![Step 5.PNG](data:image/png;base64,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)"
      ]
    },
    {
      "cell_type": "markdown",
      "metadata": {
        "id": "uTfiPDsGs-tj"
      },
      "source": [
        "##Step 6\n",
        "The final step is to calculate the gradients and apply it to the optimizer and backpropagate."
      ]
    },
    {
      "cell_type": "code",
      "metadata": {
        "id": "2OCpKuNoj_rb"
      },
      "source": [
        "@tf.function\n",
        "def train_step(inp, targ, enc_hidden):\n",
        "  loss = 0\n",
        "\n",
        "  with tf.GradientTape() as tape:\n",
        "    enc_output, enc_hidden = encoder(inp, enc_hidden)\n",
        "\n",
        "    dec_hidden = enc_hidden\n",
        "\n",
        "    dec_input = tf.expand_dims([targ_lang.word_index['<start>']] * BATCH_SIZE, 1)\n",
        "\n",
        "    # Teacher forcing - feeding the target as the next input\n",
        "    for t in range(1, targ.shape[1]):\n",
        "      # passing enc_output to the decoder\n",
        "      predictions, dec_hidden, _ = decoder(dec_input, dec_hidden, enc_output)\n",
        "\n",
        "      loss += loss_function(targ[:, t], predictions)\n",
        "\n",
        "      # using teacher forcing\n",
        "      dec_input = tf.expand_dims(targ[:, t], 1)\n",
        "\n",
        "  batch_loss = (loss / int(targ.shape[1]))\n",
        "\n",
        "  variables = encoder.trainable_variables + decoder.trainable_variables\n",
        "\n",
        "  gradients = tape.gradient(loss, variables)\n",
        "\n",
        "  optimizer.apply_gradients(zip(gradients, variables))\n",
        "\n",
        "  return batch_loss"
      ],
      "execution_count": 26,
      "outputs": []
    },
    {
      "cell_type": "code",
      "metadata": {
        "id": "n9jxXaWMtapb",
        "colab": {
          "base_uri": "https://localhost:8080/"
        },
        "outputId": "d130315a-2d5b-4f7e-9002-e546716ef310"
      },
      "source": [
        "EPOCHS = 10\n",
        "\n",
        "for epoch in range(EPOCHS):\n",
        "  start = time.time()\n",
        "\n",
        "  enc_hidden = encoder.initialize_hidden_state()\n",
        "  total_loss = 0\n",
        "\n",
        "  for (batch, (inp, targ)) in enumerate(dataset.take(steps_per_epoch)):\n",
        "    batch_loss = train_step(inp, targ, enc_hidden)\n",
        "    total_loss += batch_loss\n",
        "\n",
        "    if batch % 100 == 0:\n",
        "      print(f'Epoch {epoch+1} Batch {batch} Loss {batch_loss.numpy():.4f}')\n",
        "  # saving (checkpoint) the model every 2 epochs\n",
        "  if (epoch + 1) % 2 == 0:\n",
        "    checkpoint.save(file_prefix=checkpoint_prefix)\n",
        "\n",
        "  print(f'Epoch {epoch+1} Loss {total_loss/steps_per_epoch:.4f}')\n",
        "  print(f'Time taken for 1 epoch {time.time()-start:.2f} sec\\n')"
      ],
      "execution_count": 27,
      "outputs": [
        {
          "output_type": "stream",
          "text": [
            "Epoch 1 Batch 0 Loss 4.6865\n",
            "Epoch 1 Batch 100 Loss 2.2209\n",
            "Epoch 1 Batch 200 Loss 1.9036\n",
            "Epoch 1 Batch 300 Loss 1.6853\n",
            "Epoch 1 Loss 2.0412\n",
            "Time taken for 1 epoch 44.65 sec\n",
            "\n",
            "Epoch 2 Batch 0 Loss 1.6413\n",
            "Epoch 2 Batch 100 Loss 1.5468\n",
            "Epoch 2 Batch 200 Loss 1.3762\n",
            "Epoch 2 Batch 300 Loss 1.2769\n",
            "Epoch 2 Loss 1.3796\n",
            "Time taken for 1 epoch 34.16 sec\n",
            "\n",
            "Epoch 3 Batch 0 Loss 0.9772\n",
            "Epoch 3 Batch 100 Loss 1.0102\n",
            "Epoch 3 Batch 200 Loss 0.8306\n",
            "Epoch 3 Batch 300 Loss 0.8174\n",
            "Epoch 3 Loss 0.9512\n",
            "Time taken for 1 epoch 34.14 sec\n",
            "\n",
            "Epoch 4 Batch 0 Loss 0.6937\n",
            "Epoch 4 Batch 100 Loss 0.6143\n",
            "Epoch 4 Batch 200 Loss 0.6249\n",
            "Epoch 4 Batch 300 Loss 0.6207\n",
            "Epoch 4 Loss 0.6371\n",
            "Time taken for 1 epoch 34.42 sec\n",
            "\n",
            "Epoch 5 Batch 0 Loss 0.4650\n",
            "Epoch 5 Batch 100 Loss 0.4329\n",
            "Epoch 5 Batch 200 Loss 0.3464\n",
            "Epoch 5 Batch 300 Loss 0.3999\n",
            "Epoch 5 Loss 0.4297\n",
            "Time taken for 1 epoch 33.92 sec\n",
            "\n",
            "Epoch 6 Batch 0 Loss 0.2547\n",
            "Epoch 6 Batch 100 Loss 0.2674\n",
            "Epoch 6 Batch 200 Loss 0.3286\n",
            "Epoch 6 Batch 300 Loss 0.3634\n",
            "Epoch 6 Loss 0.2969\n",
            "Time taken for 1 epoch 34.41 sec\n",
            "\n",
            "Epoch 7 Batch 0 Loss 0.1549\n",
            "Epoch 7 Batch 100 Loss 0.2199\n",
            "Epoch 7 Batch 200 Loss 0.2079\n",
            "Epoch 7 Batch 300 Loss 0.2435\n",
            "Epoch 7 Loss 0.2128\n",
            "Time taken for 1 epoch 34.21 sec\n",
            "\n",
            "Epoch 8 Batch 0 Loss 0.1474\n",
            "Epoch 8 Batch 100 Loss 0.1377\n",
            "Epoch 8 Batch 200 Loss 0.1786\n",
            "Epoch 8 Batch 300 Loss 0.1645\n",
            "Epoch 8 Loss 0.1582\n",
            "Time taken for 1 epoch 34.96 sec\n",
            "\n",
            "Epoch 9 Batch 0 Loss 0.1173\n",
            "Epoch 9 Batch 100 Loss 0.1173\n",
            "Epoch 9 Batch 200 Loss 0.1259\n",
            "Epoch 9 Batch 300 Loss 0.1214\n",
            "Epoch 9 Loss 0.1216\n",
            "Time taken for 1 epoch 34.36 sec\n",
            "\n",
            "Epoch 10 Batch 0 Loss 0.1267\n",
            "Epoch 10 Batch 100 Loss 0.0888\n",
            "Epoch 10 Batch 200 Loss 0.1086\n",
            "Epoch 10 Batch 300 Loss 0.1792\n",
            "Epoch 10 Loss 0.0987\n",
            "Time taken for 1 epoch 34.97 sec\n",
            "\n"
          ],
          "name": "stdout"
        }
      ]
    },
    {
      "cell_type": "markdown",
      "metadata": {
        "id": "4zPyKMMow8Tr"
      },
      "source": [
        "##Translate\n",
        "*No teacher forcing \n",
        "\n",
        "*At 1st timestep within decoder,decoder input is </start/> tag\n",
        "\n",
        "*From next time steps,Decoder input is always the previous prediction\n",
        "\n",
        "*stop translating if you encounter </end/> token\n",
        "\n",
        "*save attention weights for each step\n"
      ]
    },
    {
      "cell_type": "code",
      "metadata": {
        "id": "gT4o7Of7xZyI"
      },
      "source": [
        "def evaluate(sentence):\n",
        "  attention_plot = np.zeros((max_length_targ, max_length_inp))\n",
        "\n",
        "  sentence = preprocess_sentence(sentence)\n",
        "\n",
        "  inputs = [inp_lang.word_index[i] for i in sentence.split(' ')]\n",
        "  inputs = tf.keras.preprocessing.sequence.pad_sequences([inputs],\n",
        "                                                         maxlen=max_length_inp,\n",
        "                                                         padding='post')\n",
        "  inputs = tf.convert_to_tensor(inputs)\n",
        "\n",
        "  result = ''\n",
        "\n",
        "  hidden = [tf.zeros((1, units))]\n",
        "  enc_out, enc_hidden = encoder(inputs, hidden)\n",
        "\n",
        "  dec_hidden = enc_hidden\n",
        "  dec_input = tf.expand_dims([targ_lang.word_index['<start>']], 0)\n",
        "\n",
        "  for t in range(max_length_targ):\n",
        "    predictions, dec_hidden, attention_weights = decoder(dec_input,\n",
        "                                                         dec_hidden,\n",
        "                                                         enc_out)\n",
        "\n",
        "    # storing the attention weights to plot later on\n",
        "    attention_weights = tf.reshape(attention_weights, (-1, ))\n",
        "    attention_plot[t] = attention_weights.numpy()\n",
        "\n",
        "    predicted_id = tf.argmax(predictions[0]).numpy()\n",
        "\n",
        "    result += targ_lang.index_word[predicted_id] + ' '\n",
        "\n",
        "    if targ_lang.index_word[predicted_id] == '<end>':\n",
        "      return result, sentence, attention_plot\n",
        "\n",
        "    # the predicted ID is fed back into the model\n",
        "    dec_input = tf.expand_dims([predicted_id], 0)\n",
        "\n",
        "  return result, sentence, attention_plot"
      ],
      "execution_count": 28,
      "outputs": []
    },
    {
      "cell_type": "code",
      "metadata": {
        "id": "Tx3lz4Tix0Uw"
      },
      "source": [
        "# function for plotting the attention weights\n",
        "def plot_attention(attention, sentence, predicted_sentence):\n",
        "  fig = plt.figure(figsize=(10, 10))\n",
        "  ax = fig.add_subplot(1, 1, 1)\n",
        "  ax.matshow(attention, cmap='viridis')\n",
        "\n",
        "  fontdict = {'fontsize': 14}\n",
        "\n",
        "  ax.set_xticklabels([''] + sentence, fontdict=fontdict, rotation=90)\n",
        "  ax.set_yticklabels([''] + predicted_sentence, fontdict=fontdict)\n",
        "\n",
        "  ax.xaxis.set_major_locator(ticker.MultipleLocator(1))\n",
        "  ax.yaxis.set_major_locator(ticker.MultipleLocator(1))\n",
        "\n",
        "  plt.show()"
      ],
      "execution_count": 29,
      "outputs": []
    },
    {
      "cell_type": "code",
      "metadata": {
        "id": "BecUNwRMzB1k"
      },
      "source": [
        "def translate(sentence):\n",
        "  result, sentence, attention_plot = evaluate(sentence)\n",
        "\n",
        "  print('Input:', sentence)\n",
        "  print('Predicted translation:', result)\n",
        "\n",
        "  attention_plot = attention_plot[:len(result.split(' ')),\n",
        "                                  :len(sentence.split(' '))]\n",
        "  plot_attention(attention_plot, sentence.split(' '), result.split(' '))"
      ],
      "execution_count": 30,
      "outputs": []
    },
    {
      "cell_type": "markdown",
      "metadata": {
        "id": "CQ-si2ikzDow"
      },
      "source": [
        "##Restore latest checkpoint and Test"
      ]
    },
    {
      "cell_type": "code",
      "metadata": {
        "colab": {
          "base_uri": "https://localhost:8080/"
        },
        "id": "C54mHs0FzGl6",
        "outputId": "e1e50252-5831-41c7-fde0-7ec9358e5d12"
      },
      "source": [
        "# restoring the latest checkpoint in checkpoint_dir\n",
        "checkpoint.restore(tf.train.latest_checkpoint(checkpoint_dir))"
      ],
      "execution_count": 31,
      "outputs": [
        {
          "output_type": "execute_result",
          "data": {
            "text/plain": [
              "<tensorflow.python.training.tracking.util.CheckpointLoadStatus at 0x7f65d5565190>"
            ]
          },
          "metadata": {
            "tags": []
          },
          "execution_count": 31
        }
      ]
    },
    {
      "cell_type": "code",
      "metadata": {
        "id": "zSx2iM36EZQZ",
        "colab": {
          "base_uri": "https://localhost:8080/",
          "height": 674
        },
        "outputId": "2d9f6c98-2003-421c-f27c-ceaea71b39ba"
      },
      "source": [
        "translate(u'esta es mi vida.')"
      ],
      "execution_count": 32,
      "outputs": [
        {
          "output_type": "stream",
          "text": [
            "Input: <start> esta es mi vida . <end>\n",
            "Predicted translation: this is my life . <end> \n"
          ],
          "name": "stdout"
        },
        {
          "output_type": "display_data",
          "data": {
            "image/png": "[encoded data removed]",
            "text/plain": [
              "<Figure size 720x720 with 1 Axes>"
            ]
          },
          "metadata": {
            "tags": [],
            "needs_background": "light"
          }
        }
      ]
    },
    {
      "cell_type": "code",
      "metadata": {
        "colab": {
          "base_uri": "https://localhost:8080/",
          "height": 674
        },
        "id": "cOdyVw0Izisn",
        "outputId": "7dcc3370-be84-4daf-db02-69e8943e3bd0"
      },
      "source": [
        "translate(u'hace mucho frio aqui.')"
      ],
      "execution_count": 35,
      "outputs": [
        {
          "output_type": "stream",
          "text": [
            "Input: <start> hace mucho frio aqui . <end>\n",
            "Predicted translation: it s very cold here . <end> \n"
          ],
          "name": "stdout"
        },
        {
          "output_type": "display_data",
          "data": {
            "image/png": "[encoded data removed]",
            "text/plain": [
              "<Figure size 720x720 with 1 Axes>"
            ]
          },
          "metadata": {
            "tags": [],
            "needs_background": "light"
          }
        }
      ]
    },
    {
      "cell_type": "code",
      "metadata": {
        "id": "jwXJ21102-TF"
      },
      "source": [
        ""
      ],
      "execution_count": null,
      "outputs": []
    }
  ]
}